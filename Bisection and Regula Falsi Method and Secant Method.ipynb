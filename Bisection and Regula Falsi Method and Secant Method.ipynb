{
 "cells": [
  {
   "cell_type": "markdown",
   "metadata": {},
   "source": [
    "# Bisection Method \n",
    "\n",
    "Algorithm:\n",
    "1. Guess two initial value of x which is called x1 and x2 \n",
    "2. Calculate the corresponding value of y \n",
    "3. Check whether the y1 and y2 are in opposite sign or not. \n",
    "4. If not then root is not available betweent that guessed values \n",
    "5. If yes then start the bisection of the initially guessed values. Calculate xh=(x1+x2)/2\n",
    "6. Check the corresponding values of xh as yh and check whether y1 and yh has the opposite sign or not\n",
    "7. If not then denote xh=x2.And perform the bisection again untill the value of y becomes too close to zero \n",
    "8. If yes then denote x1=xh.And perform the bisection again untill the value of y becomes too close to zero"
   ]
  },
  {
   "cell_type": "code",
   "execution_count": 12,
   "metadata": {},
   "outputs": [
    {
     "name": "stdout",
     "output_type": "stream",
     "text": [
      "There is no root between these guessed values\n",
      "The root:  4.0\n",
      "Number of bisections:  99\n"
     ]
    }
   ],
   "source": [
    "import numpy as np\n",
    "\n",
    "x1= 3\n",
    "x2 = 4\n",
    "y1 = 2*x1**2-5*x1+3\n",
    "y2 = 2*x2**2-5*x2+3\n",
    "if y1*y2>0:\n",
    "    print(\"There is no root between these guessed values\")\n",
    "    exit\n",
    "for bisection in range (100):\n",
    "    xh = (x1+x2)/2\n",
    "    yh = 2*xh**2-5*xh+3\n",
    "    y1 = 2*x1**2-5*x1+3\n",
    "    if np.abs(y1)<0.00001:\n",
    "        break\n",
    "    elif y1*yh<0:\n",
    "        x2=xh \n",
    "    else:\n",
    "        x1=xh\n",
    "\n",
    "print(\"The root: \",x1)\n",
    "print(\"Number of bisections: \",bisection)"
   ]
  },
  {
   "cell_type": "markdown",
   "metadata": {},
   "source": [
    "# Regula Falsi Method \n",
    "\n",
    "Algorithm:\n",
    "1. Guess two initial value of x which is called x1 and x2 \n",
    "2. Calculate the corresponding value of y \n",
    "3. Check whether the y1 and y2 are in opposite sign or not. \n",
    "4. If not then root is not available betweent that guessed values \n",
    "5. If yes then start the bisection of the initially guessed values. Calculate xh=x2-((x2-x1)/(y2-y1))*y2\n",
    "6. Check the corresponding values of xh as yh and check whether y1 and yh has the opposite sign or not\n",
    "7. If not then denote xh=x2.And perform the bisection again untill the value of y becomes too close to zero \n",
    "8. If yes then denote x1=xh.And perform the bisection again untill the value of y becomes too close to zero"
   ]
  },
  {
   "cell_type": "code",
   "execution_count": 1,
   "metadata": {},
   "outputs": [
    {
     "name": "stdout",
     "output_type": "stream",
     "text": [
      "There is no root between these guessed values\n",
      "The root:  1.5000232015297144\n",
      "Number of iterations:  12\n"
     ]
    }
   ],
   "source": [
    "import numpy as np\n",
    "\n",
    "x1= 0.9\n",
    "x2 = 1.8\n",
    "y1 = 2*x1**2-5*x1+3\n",
    "y2 = 2*x2**2-5*x2+3\n",
    "if y1*y2>0:\n",
    "    print(\"There is no root between these guessed values\")\n",
    "    exit\n",
    "for regula_falsi in range (10000):\n",
    "    xh = x2-((x2-x1)/(y2-y1))*y2 \n",
    "    yh = 2*xh**2-5*xh+3\n",
    "    if np.abs(yh)<0.00001:\n",
    "        break\n",
    "    elif y1*yh<0:\n",
    "        x2=xh\n",
    "        y2=yh \n",
    "    else:\n",
    "        x1=xh\n",
    "        y1=yh\n",
    "\n",
    "print(\"The root: \",x1)\n",
    "print(\"Number of iterations: \",regula_falsi)"
   ]
  },
  {
   "cell_type": "code",
   "execution_count": 5,
   "metadata": {},
   "outputs": [
    {
     "name": "stdout",
     "output_type": "stream",
     "text": [
      "The root is Regula Falsi method:  1.0000055508671928\n",
      "Number of false count:  7\n",
      "The root in bisection method,  1.0000061035156251\n",
      "Number of bisection required:  13\n",
      "The root in secant method:  1.0454530857298052\n",
      "Number of iteration required:  6\n"
     ]
    },
    {
     "data": {
      "text/plain": [
       "(1.0454530857298052, 6)"
      ]
     },
     "execution_count": 5,
     "metadata": {},
     "output_type": "execute_result"
    }
   ],
   "source": [
    "import numpy as np\n",
    "\n",
    "def regufas (fn, x1, x2, tol=0.00001, max_iteration=10000):\n",
    "    y1 = fn(x1)\n",
    "    y2 = fn(x2)\n",
    "    iteration = 0\n",
    "    if y1*y2>0:\n",
    "        print(\"No roots between these guessed values\")\n",
    "    if y1==0:x1=xh\n",
    "    elif y2==0:x2=xh\n",
    "    else: \n",
    "        for iteration in range (max_iteration):\n",
    "            xh = x2-((x2-x1)/(y2-y1))*y2 \n",
    "            yh = fn(xh)\n",
    "            if np.abs(yh)<tol:\n",
    "                break\n",
    "            elif y1*yh<0:\n",
    "                x2=xh\n",
    "                y2=yh\n",
    "            else:\n",
    "                x1=xh\n",
    "                x1=xh\n",
    "    print(\"The root is Regula Falsi method: \",xh)\n",
    "    print(\"Number of false count: \", iteration)\n",
    "    return (xh, iteration)\n",
    "\n",
    "def bisecti_m (fn_b,x1_b,x2_b,tol_b=0.00001, max_iteration_b=10000):\n",
    "    y1 = fn_b(x1_b)\n",
    "    y2 = fn_b(x2_b)\n",
    "    if y1*y2>0:\n",
    "        print(\"There is no root between these two guessed values\")\n",
    "    elif y1==0: x1_b=xh_b\n",
    "    elif y2==0: x2_b=xh_b\n",
    "    else: \n",
    "        for bisection in range(max_iteration_b):\n",
    "            xh_b = (x1_b+x2_b)/2\n",
    "            yh_b = fn_b(xh_b)\n",
    "            if np.abs(yh_b)<tol_b:\n",
    "                break\n",
    "            elif y1*yh_b<0:\n",
    "                x2_b=xh_b\n",
    "                y2_b=yh_b\n",
    "            else:\n",
    "                x1_b=xh_b\n",
    "                y1_b=yh_b\n",
    "    print(\"The root in bisection method, \",xh_b)\n",
    "    print(\"Number of bisection required: \",bisection)\n",
    "    return(xh_b,bisection)\n",
    "\n",
    "def secant(fn,x1,x2,tol=0.00001, max_iteration = 10000):\n",
    "    y1 = fn(x1)\n",
    "    y2 = fn(x2)\n",
    "    if y1==0: x1=xh\n",
    "    elif y2==0: x2=xh\n",
    "    else: \n",
    "        for itera in range (max_iteration):\n",
    "            xh = x2 - ((x2-x1)/(y2-y1))*y2\n",
    "            if np.abs(xh-x2)<tol:\n",
    "                break\n",
    "            else: \n",
    "                x1=x2\n",
    "                x2=xh\n",
    "    print(\"The root in secant method: \",xh)\n",
    "    print(\"Number of iteration required: \", itera)\n",
    "    return(xh, itera)\n",
    "\n",
    "def y(x): return 2*x**2-5*x+3\n",
    "\n",
    "x1 = float(input(\"Enter the initial guessed value x1: \"))\n",
    "x2 = float(input(\"Enter the initial guessed value x2: \"))\n",
    "regufas(y,x1,x2)\n",
    "bisecti_m(y,x1,x2)\n",
    "secant(y,x1,x2)"
   ]
  },
  {
   "cell_type": "markdown",
   "metadata": {},
   "source": [
    "# Secant Method \n",
    "\n",
    "Algorithm: \n",
    "1. Guess the roots x1 and x2 \n",
    "2. Find the corresponding value of x1 and x2 \n",
    "3. calculate x_new = x2-((x2-x1)/(y2-y1))y2 \n",
    "4. if |x_new-x2| becomes less than tolerance value then x_new is the root and break \n",
    "5. If maximum number of iteration reaches than stop\n",
    "6. Else x1=x2 and x2=x_new\n",
    "7. Repeat the step 3 "
   ]
  },
  {
   "cell_type": "code",
   "execution_count": 9,
   "metadata": {},
   "outputs": [
    {
     "name": "stdout",
     "output_type": "stream",
     "text": [
      "The root in Secant method:  1.4941143987421344\n",
      "Number of iteration:  30\n"
     ]
    }
   ],
   "source": [
    "x1 = 1.2\n",
    "x2 = 1.7\n",
    "y1 = 2*x1**2 - 5*x1+3\n",
    "y2 = 2*x2**2 - 5*x2+3\n",
    "\n",
    "for i in range (10000):\n",
    "    x_new = x2-((x2-x1)/(y2-y1))*y2\n",
    "    if abs(x_new-x2)<0.00001:\n",
    "        break \n",
    "    else: \n",
    "        x1=x2\n",
    "        x2=x_new\n",
    "print(\"The root in Secant method: \", x_new)\n",
    "print(\"Number of iteration: \", i)\n"
   ]
  }
 ],
 "metadata": {
  "kernelspec": {
   "display_name": "Python 3",
   "language": "python",
   "name": "python3"
  },
  "language_info": {
   "codemirror_mode": {
    "name": "ipython",
    "version": 3
   },
   "file_extension": ".py",
   "mimetype": "text/x-python",
   "name": "python",
   "nbconvert_exporter": "python",
   "pygments_lexer": "ipython3",
   "version": "3.12.4"
  }
 },
 "nbformat": 4,
 "nbformat_minor": 2
}
