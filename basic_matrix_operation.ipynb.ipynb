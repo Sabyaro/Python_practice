{
 "cells": [
  {
   "cell_type": "code",
   "execution_count": 2,
   "metadata": {},
   "outputs": [
    {
     "name": "stdout",
     "output_type": "stream",
     "text": [
      "The solution for:  4.5 x +  3 y =  10.5  and  1.5 x +  3 y =  7.5  is x =  1.0 and y:  2.0\n"
     ]
    },
    {
     "data": {
      "text/plain": [
       "[1.0, 2.0]"
      ]
     },
     "execution_count": 2,
     "metadata": {},
     "output_type": "execute_result"
    }
   ],
   "source": [
    "def two_by_two_solver(a1,b1,c1,a2,b2,c2,L=False):\n",
    "    \"\"\"calculating the solution for two linear equations \n",
    "    a1x+b1y=c1\n",
    "    a2x+b2y=c2\n",
    "    Args: \n",
    "        a1: first coefficient of the x in the first equation\n",
    "        b1: first coefficient of the y in the first equation\n",
    "        c1: constant value of the first equation\n",
    "        a2: second coefficient of the x in the second equation\n",
    "        b2: second coefficient of the x in the second equation\n",
    "        c2: constant value in the second equation\n",
    "        L:  Decides whether need to print the solution or not\n",
    "    Returns: \n",
    "        List containing the solution for [x,y] \"\"\"\n",
    "    new_b2 = b2*(-a1/a2)+b1\n",
    "    new_c2 = c2*(-a1/a2)+c1\n",
    "    y = new_c2/new_b2\n",
    "    x = (c1-b1*y)/a1\n",
    "    if(L):\n",
    "        print(\"The solution for: \", a1,\"x + \",b1,\"y = \",c1,\" and \",a2,\"x + \",b2,\"y = \",c2,\" is x = \",x,\"and y: \",y)\n",
    "    return[x,y] \n",
    "two_by_two_solver(4.5,3,10.5,1.5,3,7.5,L=True)"
   ]
  },
  {
   "cell_type": "code",
   "execution_count": 3,
   "metadata": {},
   "outputs": [
    {
     "name": "stdout",
     "output_type": "stream",
     "text": [
      "x =  oui  new_x =  ouiouioui \n",
      "y =  noi new_y =  noinoinoi\n"
     ]
    }
   ],
   "source": [
    "def hudai(input_variables):\n",
    "    x=3*input_variables\n",
    "    return x\n",
    "x = \"oui\"\n",
    "y = \"noi\"\n",
    "\n",
    "new_x = hudai(x)\n",
    "new_y = hudai(y)\n",
    "\n",
    "print(\"x = \",x,\" new_x = \",new_x,\"\\ny = \",y,\"new_y = \",new_y)"
   ]
  },
  {
   "cell_type": "code",
   "execution_count": 13,
   "metadata": {},
   "outputs": [
    {
     "name": "stdout",
     "output_type": "stream",
     "text": [
      "factorial with no recursion of x:  479001600\n"
     ]
    }
   ],
   "source": [
    "def factorial(n, prev=1):\n",
    "    if(n!=0):\n",
    "        prev = factorial(n-1,prev)*n\n",
    "    elif(n==0):\n",
    "        return 1\n",
    "    else: \n",
    "        return prev \n",
    "\n",
    "def factorial_with_no_recursion(n):\n",
    "    output=1\n",
    "    for i in range(2,n+1):\n",
    "        output*=i\n",
    "    return output\n",
    "\n",
    "x=12\n",
    "#print(\"factorial of x: \",factorial(x))\n",
    "print(\"factorial with no recursion of x: \",factorial_with_no_recursion(x))\n",
    "    "
   ]
  },
  {
   "cell_type": "code",
   "execution_count": 15,
   "metadata": {},
   "outputs": [
    {
     "name": "stdout",
     "output_type": "stream",
     "text": [
      "Volume:  4.1888\n",
      "Surface area:  12.5664\n"
     ]
    }
   ],
   "source": [
    "def volume(radius):\n",
    "    \"\"\"calculating the volume of the sphere using the radius\n",
    "    arg: \n",
    "        r = radius of the sphere\"\"\"\n",
    "    V = (4/3)*3.1416*(radius)**3\n",
    "    return V\n",
    "def surface_area(radius):\n",
    "    \"\"\"Calculating the surface area of the sphere using the radius\n",
    "    arg: \n",
    "        r = radius of the sphere\"\"\"\n",
    "    A = 4*3.1416*(radius)**2\n",
    "    return A\n",
    "r =1\n",
    "print(\"Volume: \",volume(r))\n",
    "print(\"Surface area: \",surface_area(r))\n"
   ]
  },
  {
   "cell_type": "code",
   "execution_count": 1,
   "metadata": {},
   "outputs": [
    {
     "name": "stdout",
     "output_type": "stream",
     "text": [
      "0.0 is the probability of getting 2\n",
      "0.0 is the probability of getting 3\n",
      "0.008 is the probability of getting 4\n",
      "0.02 is the probability of getting 5\n",
      "0.033 is the probability of getting 6\n",
      "0.028 is the probability of getting 7\n",
      "0.035 is the probability of getting 8\n",
      "0.047 is the probability of gatting 9\n",
      "0.059 is the probability of getting 10\n",
      "0.071 is the probability of getting 11\n",
      "0.079 is the probability of getting 12\n"
     ]
    },
    {
     "data": {
      "text/plain": [
       "(0.0, 0.0, 0.008, 0.02, 0.033, 0.028, 0.035, 0.047, 0.059, 0.071, 0.079)"
      ]
     },
     "execution_count": 1,
     "metadata": {},
     "output_type": "execute_result"
    }
   ],
   "source": [
    "import random\n",
    "random.seed()\n",
    "def throwing_dice(N,Loud=False):\n",
    "\n",
    "    r1=0\n",
    "    r2=0\n",
    "    r3=0\n",
    "    r4=0\n",
    "    r5=0\n",
    "    r6=0\n",
    "    r7=0\n",
    "    r8=0\n",
    "    r9=0\n",
    "    r10=0\n",
    "    r11=0\n",
    "    for i in range (N):\n",
    "        sum = random.randint(2,12)+random.randint(2,12)\n",
    "\n",
    "        if(sum==2):\n",
    "            r1+=1\n",
    "        if(sum==3):\n",
    "            r2+=1\n",
    "        if(sum==4):\n",
    "            r3+=1\n",
    "        if(sum==5):\n",
    "            r4+=1\n",
    "        if(sum==6):\n",
    "            r5+=1\n",
    "        if(sum==7):\n",
    "            r6+=1\n",
    "        if(sum==8):\n",
    "            r7+=1\n",
    "        if(sum==9):\n",
    "            r8+=1\n",
    "        if(sum==10):\n",
    "            r9+=1\n",
    "        if(sum==11):\n",
    "            r10+=1\n",
    "        if(sum==12):\n",
    "            r11+=1\n",
    "    if(Loud):\n",
    "        print(r1/N ,\"is the probability of getting 2\")\n",
    "        print(r2/N,\"is the probability of getting 3\")\n",
    "        print(r3/N,\"is the probability of getting 4\")\n",
    "        print(r4/N,\"is the probability of getting 5\")\n",
    "        print(r5/N,\"is the probability of getting 6\")\n",
    "        print(r6/N,\"is the probability of getting 7\")\n",
    "        print(r7/N,\"is the probability of getting 8\")\n",
    "        print(r8/N,\"is the probability of gatting 9\")\n",
    "        print(r9/N,\"is the probability of getting 10\")\n",
    "        print(r10/N,\"is the probability of getting 11\")\n",
    "        print(r11/N,\"is the probability of getting 12\")\n",
    "    return r1/N, r2/N, r3/N, r4/N, r5/N, r6/N, r7/N, r8/N, r9/N, r10/N, r11/N\n",
    "\n",
    "throwing_dice (1000,True)\n",
    "\n",
    "     "
   ]
  },
  {
   "cell_type": "code",
   "execution_count": 2,
   "metadata": {},
   "outputs": [
    {
     "data": {
      "text/plain": [
       "10.0"
      ]
     },
     "execution_count": 2,
     "metadata": {},
     "output_type": "execute_result"
    }
   ],
   "source": [
    "def silly_function(input_var):\n",
    "    x=1.0\n",
    "    return input_var\n",
    "x=10.0\n",
    "silly_function(x)"
   ]
  },
  {
   "cell_type": "code",
   "execution_count": 6,
   "metadata": {},
   "outputs": [
    {
     "name": "stdout",
     "output_type": "stream",
     "text": [
      "hello \n",
      "this is sabyasachi roy\n",
      "OKay\n",
      "\n"
     ]
    }
   ],
   "source": [
    "f = open(\"/home/dresden/hello\",\"r\")\n",
    "print(f.read())"
   ]
  },
  {
   "cell_type": "code",
   "execution_count": 9,
   "metadata": {},
   "outputs": [
    {
     "name": "stdout",
     "output_type": "stream",
     "text": [
      "Estimated value of exponential:  0.8602100440303023\n",
      "Estimated value of exponential:  1.637918125547751\n",
      "Estimated value of exponential:  3.3380827849813657\n",
      "Estimated value of exponential:  12.743229599706034\n",
      "Estimated value of exponential:  7.895274836516205\n"
     ]
    }
   ],
   "source": [
    "import numpy as np\n",
    "import random\n",
    "def estimating_exponential(n,x,N):\n",
    "    yi = np.random.rand(N)\n",
    "    est = np.sum(np.exp(-x*yi)/(N*yi**n))\n",
    "    return est \n",
    "N = [1,10,100,1000,10**4]\n",
    "for i in N: \n",
    "    print(\"Estimated value of exponential: \",estimating_exponential(1,1,i))"
   ]
  },
  {
   "cell_type": "code",
   "execution_count": 12,
   "metadata": {},
   "outputs": [
    {
     "name": "stdout",
     "output_type": "stream",
     "text": [
      "Estinamting the exponential value for  1 :  1.7492314987040458\n",
      "the standard deviation for every  1  value is:  24.08515082114552\n",
      "Estinamting the exponential value for  10 :  1.535492723212045\n",
      "the standard deviation for every  10  value is:  3.0796389586103694\n",
      "Estinamting the exponential value for  100 :  12.965901544204263\n",
      "the standard deviation for every  100  value is:  5.226131840734763\n",
      "Estinamting the exponential value for  1000 :  6.011880879139673\n",
      "the standard deviation for every  1000  value is:  5.5280604555116275\n",
      "Estinamting the exponential value for  10000 :  8.096667800412432\n",
      "the standard deviation for every  10000  value is:  129.3298125622556\n"
     ]
    }
   ],
   "source": [
    "import numpy as np\n",
    "\n",
    "def estimating_exponential(n,x,N):\n",
    "    yi = np.random.rand(N)\n",
    "    est = np.sum(np.exp(-x*yi)/(N*yi**n))\n",
    "    return est \n",
    "def standard_deviation(n,x,L,N):\n",
    "    s = np.zeros(L)\n",
    "    for i in range(L):\n",
    "        s[i]= estimating_exponential(n,x,N)\n",
    "    std_d = np.sqrt((1/(L-1))*np.sum((s-np.mean(s))**2))\n",
    "    return std_d\n",
    "N = [1,10,100,1000,10**4]\n",
    "for i in N:\n",
    "    print(\"Estinamting the exponential value for \",i,\": \",estimating_exponential(1,1,i))\n",
    "    print(\"the standard deviation for every \",i,\" value is: \",standard_deviation(1,1,10,i))\n",
    "\n"
   ]
  },
  {
   "cell_type": "code",
   "execution_count": 44,
   "metadata": {},
   "outputs": [
    {
     "name": "stdout",
     "output_type": "stream",
     "text": [
      "Vector:  [1 2 3 4]\n",
      "Matrix: \n",
      " [[1 2 3]\n",
      " [2 3 4]\n",
      " [3 4 5]]\n",
      "Shape of the vector (4,)\n",
      "Shape of the matrix (3, 3)\n",
      "Dimension of the vector:  1\n",
      "Dimension of the matrix:  2\n",
      "Size of the vector:  4\n",
      "Size of the matrix:  3 * 3\n",
      "[1 2 3 4 5 6] is converted into \n",
      " [[1 2]\n",
      " [3 4]\n",
      " [5 6]]\n",
      "The matrix:  [0.  0.1 0.2 0.3 0.4 0.5 0.6]\n",
      "[0.         0.10300304 0.20600608 0.30900911 0.41201215 0.51501519\n",
      " 0.61801823 0.72102126 0.8240243  0.92702734 1.03003038 1.13303342\n",
      " 1.23603645 1.33903949 1.44204253 1.54504557 1.64804861 1.75105164\n",
      " 1.85405468 1.95705772 2.06006076 2.16306379 2.26606683 2.36906987\n",
      " 2.47207291 2.57507595 2.67807898 2.78108202 2.88408506 2.9870881\n",
      " 3.09009113 3.19309417 3.29609721 3.39910025 3.50210329 3.60510632\n",
      " 3.70810936 3.8111124  3.91411544 4.01711848 4.12012151 4.22312455\n",
      " 4.32612759 4.42913063 4.53213366 4.6351367  4.73813974 4.84114278\n",
      " 4.94414582 5.04714885 5.15015189 5.25315493 5.35615797 5.459161\n",
      " 5.56216404 5.66516708 5.76817012 5.87117316 5.97417619 6.07717923\n",
      " 6.18018227 6.28318531]\n",
      "[[0.85834554 0.75271195 0.52435793]\n",
      " [0.27784193 0.19683657 0.57524597]]\n",
      "[[0. 0. 0.]\n",
      " [0. 0. 0.]\n",
      " [0. 0. 0.]]\n",
      "[[1. 1. 1.]\n",
      " [1. 1. 1.]\n",
      " [1. 1. 1.]]\n",
      "[[5.88441973 0.03045402 1.45587259]\n",
      " [2.31963567 4.80585189 3.99436686]\n",
      " [1.07263298 1.35103896 2.77722722]]\n",
      "[[1. 0. 0.]\n",
      " [0. 1. 0.]\n",
      " [0. 0. 1.]]\n",
      "[ 0.00000000e+00  1.02820997e-01  2.04552066e-01  3.04114832e-01\n",
      "  4.00453906e-01  4.92548068e-01  5.79421098e-01  6.60152121e-01\n",
      "  7.33885366e-01  7.99839245e-01  8.57314628e-01  9.05702263e-01\n",
      "  9.44489229e-01  9.73264374e-01  9.91722674e-01  9.99668468e-01\n",
      "  9.97017526e-01  9.83797952e-01  9.60149874e-01  9.26323968e-01\n",
      "  8.82678798e-01  8.29677014e-01  7.67880446e-01  6.97944155e-01\n",
      "  6.20609482e-01  5.36696194e-01  4.47093793e-01  3.52752087e-01\n",
      "  2.54671120e-01  1.53890577e-01  5.14787548e-02 -5.14787548e-02\n",
      " -1.53890577e-01 -2.54671120e-01 -3.52752087e-01 -4.47093793e-01\n",
      " -5.36696194e-01 -6.20609482e-01 -6.97944155e-01 -7.67880446e-01\n",
      " -8.29677014e-01 -8.82678798e-01 -9.26323968e-01 -9.60149874e-01\n",
      " -9.83797952e-01 -9.97017526e-01 -9.99668468e-01 -9.91722674e-01\n",
      " -9.73264374e-01 -9.44489229e-01 -9.05702263e-01 -8.57314628e-01\n",
      " -7.99839245e-01 -7.33885366e-01 -6.60152121e-01 -5.79421098e-01\n",
      " -4.92548068e-01 -4.00453906e-01 -3.04114832e-01 -2.04552066e-01\n",
      " -1.02820997e-01 -2.44929360e-16]\n"
     ]
    },
    {
     "data": {
      "text/plain": [
       "[<matplotlib.lines.Line2D at 0x7ffb7536c190>]"
      ]
     },
     "execution_count": 44,
     "metadata": {},
     "output_type": "execute_result"
    },
    {
     "data": {
      "image/png": "[encoded data removed]",
      "text/plain": [
       "<Figure size 640x480 with 1 Axes>"
      ]
     },
     "metadata": {},
     "output_type": "display_data"
    }
   ],
   "source": [
    "import numpy as np\n",
    "a_vector = np.array([1,2,3,4])\n",
    "a_matrix = np.array([(1,2,3),(2,3,4),(3,4,5)])\n",
    "print(\"Vector: \", a_vector)\n",
    "print(\"Matrix: \\n\",a_matrix)\n",
    "\n",
    "print(\"Shape of the vector\", a_vector.shape)\n",
    "print(\"Shape of the matrix\", a_matrix.shape)\n",
    "\n",
    "print(\"Dimension of the vector: \", a_vector.ndim)\n",
    "print(\"Dimension of the matrix: \", a_matrix.ndim)\n",
    "\n",
    "print(\"Size of the vector: \", a_vector.shape[0])\n",
    "print(\"Size of the matrix: \", a_matrix.shape[0],\"*\",a_matrix.shape[1])\n",
    "\n",
    "A_vector = np.array([1,2,3,4,5,6])\n",
    "A_matrix = A_vector.reshape(3,2)\n",
    "print(A_vector,\"is converted into \\n\",A_matrix)\n",
    "dx = 0.1\n",
    "X = np.arange(0.0,0.2*np.pi,dx)\n",
    "print(\"The matrix: \",X)\n",
    "\n",
    "Y = np.linspace(start= 0, stop = 2*np.pi, num = 62 )\n",
    "print(Y)\n",
    "len(Y)\n",
    "zero_matrix = np.zeros((3,3))\n",
    "one_matrix = np.ones((3,3))\n",
    "Z = np.random.rand(2,3)\n",
    "I = np.random.uniform(low = 0, high = 6, size=(3,3))\n",
    "identity = np.identity(3)\n",
    "print(Z)\n",
    "print(zero_matrix)\n",
    "print(one_matrix)\n",
    "print(I)\n",
    "print(identity)\n",
    "sin_curve = np.sin(Y)\n",
    "print(sin_curve)\n",
    "\n",
    "import matplotlib.pyplot as plt\n",
    "plt.plot(Y,sin_curve)\n"
   ]
  }
 ],
 "metadata": {
  "kernelspec": {
   "display_name": "Python 3",
   "language": "python",
   "name": "python3"
  },
  "language_info": {
   "codemirror_mode": {
    "name": "ipython",
    "version": 3
   },
   "file_extension": ".py",
   "mimetype": "text/x-python",
   "name": "python",
   "nbconvert_exporter": "python",
   "pygments_lexer": "ipython3",
   "version": "3.10.12"
  },
  "orig_nbformat": 4
 },
 "nbformat": 4,
 "nbformat_minor": 2
}
