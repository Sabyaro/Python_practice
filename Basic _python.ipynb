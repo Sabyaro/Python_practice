{
 "cells": [
  {
   "cell_type": "code",
   "execution_count": 1,
   "id": "d790c965",
   "metadata": {},
   "outputs": [
    {
     "name": "stdout",
     "output_type": "stream",
     "text": [
      "cos(theta)=  -0.9999999994668716\n"
     ]
    }
   ],
   "source": [
    "import math\n",
    "theta = 3.14156\n",
    "trig_variable = math.cos(theta)\n",
    "print(\"cos(theta)= \",trig_variable)"
   ]
  },
  {
   "cell_type": "code",
   "execution_count": 2,
   "id": "455cdbfe",
   "metadata": {},
   "outputs": [
    {
     "name": "stdout",
     "output_type": "stream",
     "text": [
      "exponential =  2.718281828459045\n"
     ]
    }
   ],
   "source": [
    "e = math.exp(1)\n",
    "print (\"exponential = \",e)"
   ]
  },
  {
   "cell_type": "code",
   "execution_count": 3,
   "id": "653898eb",
   "metadata": {},
   "outputs": [
    {
     "name": "stdout",
     "output_type": "stream",
     "text": [
      "Natural log of 10 =  2.302585092994046\n"
     ]
    }
   ],
   "source": [
    "print (\"Natural log of 10 = \",math.log(10))"
   ]
  },
  {
   "cell_type": "code",
   "execution_count": 4,
   "id": "03c636b8",
   "metadata": {},
   "outputs": [
    {
     "name": "stdout",
     "output_type": "stream",
     "text": [
      "bas-10 of log 10 =  1.0\n"
     ]
    }
   ],
   "source": [
    "print (\"bas-10 of log 10 = \",math.log10(10))"
   ]
  },
  {
   "cell_type": "code",
   "execution_count": 5,
   "id": "7888679d",
   "metadata": {},
   "outputs": [],
   "source": [
    "import cmath"
   ]
  },
  {
   "cell_type": "code",
   "execution_count": 6,
   "id": "717b4709",
   "metadata": {},
   "outputs": [
    {
     "name": "stdout",
     "output_type": "stream",
     "text": [
      "(2+3.14j) + (4+5.6j) = (6+8.74j)\n"
     ]
    }
   ],
   "source": [
    "z1 = 2+3.14*1j\n",
    "z2 = 4+5.6*1j\n",
    "print(z1,\"+\",z2, \"=\", z1+z2)"
   ]
  },
  {
   "cell_type": "code",
   "execution_count": 7,
   "id": "ac08fecb",
   "metadata": {},
   "outputs": [
    {
     "name": "stdout",
     "output_type": "stream",
     "text": [
      "roots are =  (1.4142135623730954+0j) and  (-2+0j)\n"
     ]
    }
   ],
   "source": [
    "a=1.0\n",
    "b=(2-math.sqrt(2))\n",
    "c=-2*math.sqrt(2)\n",
    "root1=(-b+cmath.sqrt(b*b-4*c*a))/(2*a)\n",
    "root2=(-b-cmath.sqrt(b*b-4*c*a))/(2*a)\n",
    "print(\"roots are = \",root1,\"and \",root2)"
   ]
  },
  {
   "cell_type": "code",
   "execution_count": 10,
   "id": "e4fc5ae5",
   "metadata": {},
   "outputs": [
    {
     "name": "stdout",
     "output_type": "stream",
     "text": [
      "Enter a number: 4\n",
      "8.0\n"
     ]
    }
   ],
   "source": [
    "user_value=input(\"Enter a number: \")\n",
    "user_value=float (user_value)\n",
    "print(2*user_value)"
   ]
  },
  {
   "cell_type": "code",
   "execution_count": 17,
   "id": "7f9eb32c",
   "metadata": {},
   "outputs": [
    {
     "name": "stdout",
     "output_type": "stream",
     "text": [
      "what is you opinion: average\n",
      "B\n"
     ]
    }
   ],
   "source": [
    "the_opinion = input(\"what is you opinion: \")\n",
    "grade = ''\n",
    "if (the_opinion=='bad'):\n",
    "    grade ='F'\n",
    "elif (the_opinion=='average'):\n",
    "    grade='B'\n",
    "else: \n",
    "    grade='A'\n",
    "print(grade)"
   ]
  },
  {
   "cell_type": "code",
   "execution_count": 28,
   "id": "a1015127",
   "metadata": {},
   "outputs": [
    {
     "ename": "KeyboardInterrupt",
     "evalue": "",
     "output_type": "error",
     "traceback": [
      "\u001b[0;31m---------------------------------------------------------------------------\u001b[0m",
      "\u001b[0;31mKeyboardInterrupt\u001b[0m                         Traceback (most recent call last)",
      "Cell \u001b[0;32mIn[28], line 6\u001b[0m\n\u001b[1;32m      4\u001b[0m tol \u001b[38;5;241m=\u001b[39m \u001b[38;5;241m1\u001b[39m\u001b[38;5;241m*\u001b[39me\u001b[38;5;241m-\u001b[39m\u001b[38;5;241m3\u001b[39m\n\u001b[1;32m      5\u001b[0m converged \u001b[38;5;241m=\u001b[39m math\u001b[38;5;241m.\u001b[39mfabs(guess_e\u001b[38;5;241m-\u001b[39mmath\u001b[38;5;241m.\u001b[39mexp(\u001b[38;5;241m1\u001b[39m))\u001b[38;5;241m<\u001b[39mtol\n\u001b[0;32m----> 6\u001b[0m \u001b[38;5;28;01mwhile\u001b[39;00m(converged\u001b[38;5;241m==\u001b[39m\u001b[38;5;241m0\u001b[39m):\n\u001b[1;32m      7\u001b[0m     guess_e \u001b[38;5;241m=\u001b[39m guess_e\u001b[38;5;241m+\u001b[39mtol\u001b[38;5;241m/\u001b[39m\u001b[38;5;241m2\u001b[39m\n\u001b[1;32m      8\u001b[0m     converged \u001b[38;5;241m=\u001b[39m math\u001b[38;5;241m.\u001b[39mfabs(guess_e\u001b[38;5;241m-\u001b[39mmath\u001b[38;5;241m.\u001b[39mexp(\u001b[38;5;241m1\u001b[39m))\u001b[38;5;241m<\u001b[39mtol\n",
      "\u001b[0;31mKeyboardInterrupt\u001b[0m: "
     ]
    }
   ],
   "source": [
    "guess_e=2.71\n",
    "converged =0\n",
    "iteration=0\n",
    "tol = 1*e-3\n",
    "converged = math.fabs(guess_e-math.exp(1))<tol\n",
    "while(converged==0):\n",
    "    guess_e = guess_e+tol/2\n",
    "    converged = math.fabs(guess_e-math.exp(1))<tol\n",
    "    iteration+=1\n",
    "print(guess_e)\n",
    "print(iteration)"
   ]
  },
  {
   "cell_type": "code",
   "execution_count": 30,
   "id": "fbadca88",
   "metadata": {},
   "outputs": [
    {
     "name": "stdout",
     "output_type": "stream",
     "text": [
      "2.71\n",
      "0\n"
     ]
    }
   ],
   "source": [
    "guess_e=2.71\n",
    "converged =0\n",
    "iteration=0\n",
    "tol = 1*e-6\n",
    "converged = math.fabs(guess_e-math.exp(1))\n",
    "if (converged<tol):\n",
    "    guess_e=guess_e+tol/2\n",
    "    converged=math.fabs(guess_e-math.exp(1))\n",
    "    iteration+=1\n",
    "else:\n",
    "    print(guess_e)\n",
    "    print(iteration)"
   ]
  },
  {
   "cell_type": "code",
   "execution_count": 31,
   "id": "1f278f40",
   "metadata": {},
   "outputs": [
    {
     "name": "stdout",
     "output_type": "stream",
     "text": [
      "Enter the coefficient of x^3: 4\n",
      "Enter the coefficient of x: 5\n",
      "Enter the coefficient of constant: 6\n",
      "The Solution is:  (-0.7962036166091602+0j)\n"
     ]
    }
   ],
   "source": [
    "import math\n",
    "import cmath\n",
    "#in a cubic equation\n",
    "A = input(\"Enter the coefficient of x^3: \")\n",
    "A = float (A)\n",
    "C = input (\"Enter the coefficient of x: \")\n",
    "C = float (C)\n",
    "D = input (\"Enter the coefficient of constant: \")\n",
    "D = float (D)\n",
    "if (A!=0):\n",
    "    c = -(D/(2*A))**(1./3.)\n",
    "    b = cmath.sqrt(C/(3*A))\n",
    "    d = ((c**3)+cmath.sqrt((b**6)+(c**6)))**(1./3.)\n",
    "    x = d-((b**2)/d)\n",
    "else:\n",
    "    x=-(D/C)\n",
    "print(\"The Solution is: \",x)"
   ]
  },
  {
   "cell_type": "code",
   "execution_count": null,
   "id": "56839990",
   "metadata": {},
   "outputs": [],
   "source": []
  }
 ],
 "metadata": {
  "kernelspec": {
   "display_name": "Python 3 (ipykernel)",
   "language": "python",
   "name": "python3"
  },
  "language_info": {
   "codemirror_mode": {
    "name": "ipython",
    "version": 3
   },
   "file_extension": ".py",
   "mimetype": "text/x-python",
   "name": "python",
   "nbconvert_exporter": "python",
   "pygments_lexer": "ipython3",
   "version": "3.10.6"
  }
 },
 "nbformat": 4,
 "nbformat_minor": 5
}
