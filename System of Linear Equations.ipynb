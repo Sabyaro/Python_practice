{
 "cells": [
  {
   "cell_type": "markdown",
   "metadata": {},
   "source": [
    "# Gauss Elimination"
   ]
  },
  {
   "cell_type": "code",
   "execution_count": 15,
   "metadata": {},
   "outputs": [
    {
     "name": "stdout",
     "output_type": "stream",
     "text": [
      "[0.44444444 0.55555556 0.66666667 0.22222222 0.22222222]\n",
      "[[0.44444444]\n",
      " [0.55555556]\n",
      " [0.66666667]\n",
      " [0.22222222]\n",
      " [0.22222222]]\n"
     ]
    },
    {
     "name": "stderr",
     "output_type": "stream",
     "text": [
      "C:\\Users\\User\\AppData\\Local\\Temp\\ipykernel_13140\\1041719608.py:26: DeprecationWarning: Conversion of an array with ndim > 0 to a scalar is deprecated, and will error in future. Ensure you extract a single element from your array before performing this operation. (Deprecated NumPy 1.25.)\n",
      "  X[n-1] = B[n-1]/A[n-1,n-1]\n",
      "C:\\Users\\User\\AppData\\Local\\Temp\\ipykernel_13140\\1041719608.py:32: DeprecationWarning: Conversion of an array with ndim > 0 to a scalar is deprecated, and will error in future. Ensure you extract a single element from your array before performing this operation. (Deprecated NumPy 1.25.)\n",
      "  X[i] = (B[i]-Sum)/A[i,i]\n"
     ]
    }
   ],
   "source": [
    "import numpy as np\n",
    "\n",
    "A = np.array([[2,7,-1,3,1],\n",
    "              [2,3,4,1,7],\n",
    "              [6,2,-3,2,-1],\n",
    "              [2,1,2,-1,2],\n",
    "              [3,4,1,-2,1]],float)\n",
    "B = np.array([[5],\n",
    "              [7],\n",
    "              [2],\n",
    "              [3],\n",
    "              [4]],float)\n",
    "n=len(B)\n",
    "X = np.zeros(n, float)\n",
    "\n",
    "#Elimination \n",
    "for k in range(n-1):\n",
    "    for i in range(k+1, n):\n",
    "        factr = A[k,k]/A[i,k]\n",
    "        for j in range (k,n):\n",
    "            A[i,j]=A[k,j]-factr*A[i,j]\n",
    "        B[i] = B[k]-factr*B[i]\n",
    "\n",
    "#Backward substitution \n",
    "\n",
    "X[n-1] = B[n-1]/A[n-1,n-1]\n",
    "\n",
    "for i in range (n-2,-1,-1):\n",
    "    Sum =0\n",
    "    for j in range (i+1, n):\n",
    "        Sum+=A[i,j]*X[j]\n",
    "    X[i] = (B[i]-Sum)/A[i,i]\n",
    "\n",
    "Y = np.linalg.solve(A,B)\n",
    "print(X)\n",
    "print(Y)\n"
   ]
  },
  {
   "cell_type": "markdown",
   "metadata": {},
   "source": [
    "# Jacobi's Method"
   ]
  },
  {
   "cell_type": "code",
   "execution_count": 16,
   "metadata": {},
   "outputs": [
    {
     "name": "stdout",
     "output_type": "stream",
     "text": [
      "[ 0.3645813  -0.23346818  0.28505651 -0.20379138]\n",
      "17\n"
     ]
    }
   ],
   "source": [
    "import numpy as np\n",
    "\n",
    "A = np.array([[4,1,2,-1],\n",
    "              [3,6,-1,2],\n",
    "              [2,-1,5,-3],\n",
    "              [4,1,-3,-8]],float)\n",
    "B = np.array([2,-1,3,2],float)\n",
    "(n,) = np.shape(B)\n",
    "X_new = np.empty(n, float)\n",
    "X = np.full(n,1.0, float)\n",
    "max_iter = 100\n",
    "tolerance = 1*np.exp(-8)\n",
    "for iteration in range (max_iter):\n",
    "\n",
    "    for i in range (n):\n",
    "        Sum = 0\n",
    "        for j in range (n):\n",
    "            if j!=i:\n",
    "                Sum+=A[i,j]*X[j]\n",
    "        X_new[i] = - (Sum-B[i])/(A[i,i])\n",
    "    if (np.abs(X_new-X)<tolerance).all():\n",
    "        break\n",
    "    else:\n",
    "        X = np.copy(X_new)\n",
    "\n",
    "print(X)\n",
    "print(iteration)"
   ]
  },
  {
   "cell_type": "markdown",
   "metadata": {},
   "source": [
    "# Gauss Seidel's Method"
   ]
  },
  {
   "cell_type": "code",
   "execution_count": 21,
   "metadata": {},
   "outputs": [
    {
     "name": "stdout",
     "output_type": "stream",
     "text": [
      "[ 0.36550004 -0.23424488  0.28500187 -0.20340629]\n",
      "8\n"
     ]
    }
   ],
   "source": [
    "import numpy as np\n",
    "\n",
    "A = np.array([[4,1,2,-1],\n",
    "              [3,6,-1,2],\n",
    "              [2,-1,5,-3],\n",
    "              [4,1,-3,-8]],float)\n",
    "B = np.array([2,-1,3,2],float)\n",
    "(n,) = np.shape(B)\n",
    "X_new = np.empty(n, float)\n",
    "X = np.full(n,1.0, float)\n",
    "max_iter = 100\n",
    "tolerance = 1*np.exp(-8)\n",
    "for iteration in range (max_iter):\n",
    "\n",
    "    for i in range (n):\n",
    "        Sum = 0\n",
    "        for j in range (n):\n",
    "            if j!=i:\n",
    "                Sum+=A[i,j]*X_new[j]  #The difference between Jacobi and Gauss Seidel\n",
    "        X_new[i] = - (Sum-B[i])/(A[i,i])\n",
    "    if (np.abs(X_new-X)<tolerance).all():\n",
    "        break\n",
    "    else:\n",
    "        X = np.copy(X_new)\n",
    "\n",
    "print(X)\n",
    "print(iteration)"
   ]
  },
  {
   "cell_type": "markdown",
   "metadata": {},
   "source": [
    "For applying Gauss Seidel and Jacobi Method diagonal dominance is important. For this reason the first problem doesn't run successfully. "
   ]
  },
  {
   "cell_type": "markdown",
   "metadata": {},
   "source": [
    "# Gauss Jordan Method"
   ]
  },
  {
   "cell_type": "code",
   "execution_count": 32,
   "metadata": {},
   "outputs": [
    {
     "name": "stdout",
     "output_type": "stream",
     "text": [
      "[[1. 0. 0. 0. 0.]\n",
      " [0. 1. 0. 0. 0.]\n",
      " [0. 0. 1. 0. 0.]\n",
      " [0. 0. 0. 1. 0.]\n",
      " [0. 0. 0. 0. 1.]]\n",
      "[[0.44444444]\n",
      " [0.55555556]\n",
      " [0.66666667]\n",
      " [0.22222222]\n",
      " [0.22222222]]\n"
     ]
    }
   ],
   "source": [
    "import numpy as np\n",
    "\n",
    "A = np.array([[2,7,-1,3,1],\n",
    "              [2,3,4,1,7],\n",
    "              [6,2,-3,2,-1],\n",
    "              [2,1,2,-1,2],\n",
    "              [3,4,1,-2,1]],float)\n",
    "B = np.array([[5],\n",
    "              [7],\n",
    "              [2],\n",
    "              [3],\n",
    "              [4]],float)\n",
    "n=len(B)\n",
    "\n",
    "for k in range(n):\n",
    "    if np.fabs(A[k,k])<1.0*np.exp(-12):\n",
    "\n",
    "        for i in range(k+1,n):\n",
    "            if np.fabs(A[i,k])>np.fabs(A[k,k]):\n",
    "\n",
    "                for j in range(k,n):\n",
    "                    A[k,j], A[i,j] = A[i,j], A[k,j]\n",
    "\n",
    "                B[k],B[i] = B[i], B[k]\n",
    "                break\n",
    "    \n",
    "    #Division of the pivot row\n",
    "    pivot = A[k,k]\n",
    "    for j in range (k,n):\n",
    "        A[k,j]/=pivot\n",
    "    B[k]/= pivot\n",
    "    #Elimination loop\n",
    "    for i in range(n):\n",
    "        if i ==k or A[i,k]==0:\n",
    "            continue\n",
    "        factor = A[i,k]\n",
    "        for j in range (k,n):\n",
    "            A[i,j] -= factor *A[k,j]\n",
    "        B[i] -= factor *B[k]\n",
    "\n",
    "print(A)\n",
    "print(B)\n"
   ]
  },
  {
   "cell_type": "code",
   "execution_count": 9,
   "metadata": {},
   "outputs": [
    {
     "name": "stdout",
     "output_type": "stream",
     "text": [
      "The solution using Gauss Elimination:  [2. 4. 3.]\n",
      "The soluting using Gauss Jordan's Method:  [2. 4. 3.]\n",
      "The exact solution:  [2. 4. 3.]\n"
     ]
    }
   ],
   "source": [
    "def Gauss_elimination (A, B):\n",
    "    n=len(B)\n",
    "    X = np.zeros(n, float)\n",
    "\n",
    "    #Elimination \n",
    "    for k in range(n-1):\n",
    "        for i in range(k+1, n):\n",
    "            factr = A[k,k]/A[i,k]\n",
    "            for j in range (k,n):\n",
    "                A[i,j]=A[k,j]-factr*A[i,j]\n",
    "            B[i] = B[k]-factr*B[i]\n",
    "\n",
    "    #Backward substitution \n",
    "\n",
    "    X[n-1] = B[n-1]/A[n-1,n-1]\n",
    "\n",
    "    for i in range (n-2,-1,-1):\n",
    "        Sum =0\n",
    "        for j in range (i+1, n):\n",
    "            Sum+=A[i,j]*X[j]\n",
    "        X[i] = (B[i]-Sum)/A[i,i]\n",
    "    print(\"The solution using Gauss Elimination: \", X)\n",
    "\n",
    "def Jacobi_method(A,B):\n",
    "    (n,) = np.shape(B)\n",
    "    X_new = np.empty(n, float)\n",
    "    X = np.full(n,1.0, float)\n",
    "    max_iter = 100\n",
    "    tolerance = 1*np.exp(-8)\n",
    "    for iteration in range (max_iter):\n",
    "\n",
    "        for i in range (n):\n",
    "            Sum = 0\n",
    "            for j in range (n):\n",
    "                if j!=i:\n",
    "                    Sum+=A[i,j]*X[j]\n",
    "            X_new[i] = - (Sum-B[i])/(A[i,i])\n",
    "        if (np.abs(X_new-X)<tolerance).all():\n",
    "            break\n",
    "        else:\n",
    "            X = np.copy(X_new)\n",
    "    print (\"The solution using Jacobi's Method: \",X)\n",
    "\n",
    "def Gauss_seidel(A,B):\n",
    "    (n,) = np.shape(B)\n",
    "    X_new = np.empty(n, float)\n",
    "    X = np.full(n,1.0, float)\n",
    "    max_iter = 100\n",
    "    tolerance = 1*np.exp(-8)\n",
    "    for iteration in range (max_iter):\n",
    "\n",
    "        for i in range (n):\n",
    "            Sum = 0\n",
    "            for j in range (n):\n",
    "                if j!=i:\n",
    "                    Sum+=A[i,j]*X_new[j]\n",
    "            X_new[i] = - (Sum-B[i])/(A[i,i])\n",
    "        if (np.abs(X_new-X)<tolerance).all():\n",
    "            break\n",
    "        else:\n",
    "            X = np.copy(X_new)\n",
    "    print (\"The solution using Gauss Seidel Method: \",X)\n",
    "\n",
    "def Gauss_Jordan_method(A,B):\n",
    "    n=len(B)\n",
    "\n",
    "    for k in range(n):\n",
    "        if np.fabs(A[k,k])<1.0*np.exp(-12):\n",
    "\n",
    "            for i in range(k+1,n):\n",
    "                if np.fabs(A[i,k])>np.fabs(A[k,k]):\n",
    "\n",
    "                    for j in range(k,n):\n",
    "                        A[k,j], A[i,j] = A[i,j], A[k,j]\n",
    "\n",
    "                    B[k],B[i] = B[i], B[k]\n",
    "                    break\n",
    "    \n",
    "        #Division of the pivot row\n",
    "        pivot = A[k,k]\n",
    "        for j in range (k,n):\n",
    "            A[k,j]/=pivot\n",
    "        B[k]/= pivot\n",
    "        #Elimination loop\n",
    "        for i in range(n):\n",
    "            if i ==k or A[i,k]==0:\n",
    "                continue\n",
    "            factor = A[i,k]\n",
    "            for j in range (k,n):\n",
    "                A[i,j] -= factor *A[k,j]\n",
    "            B[i] -= factor *B[k]\n",
    "    print(\"The soluting using Gauss Jordan's Method: \", B)\n",
    "\n",
    "import numpy as np\n",
    "\n",
    "A = np.array([[4, -1, 1],\n",
    "              [4, -8, 1],\n",
    "              [-2, 1, 5]],float)\n",
    "B = np.array([7,-21,15], float)\n",
    "\n",
    "Gauss_elimination(A,B)\n",
    "\n",
    "Sum_values_in_row = np.sum(abs(A), axis=1)\n",
    "if np.all(((abs(np.diag(A))))>=Sum_values_in_row):\n",
    "    Gauss_seidel(A,B)\n",
    "    Jacobi_method(A,B)\n",
    "else:\n",
    "    Gauss_Jordan_method(A,B)\n",
    "Exact_sol = np.linalg.solve(A,B)\n",
    "print(\"The exact solution: \",Exact_sol)"
   ]
  }
 ],
 "metadata": {
  "kernelspec": {
   "display_name": "Python 3",
   "language": "python",
   "name": "python3"
  },
  "language_info": {
   "codemirror_mode": {
    "name": "ipython",
    "version": 3
   },
   "file_extension": ".py",
   "mimetype": "text/x-python",
   "name": "python",
   "nbconvert_exporter": "python",
   "pygments_lexer": "ipython3",
   "version": "3.12.5"
  }
 },
 "nbformat": 4,
 "nbformat_minor": 2
}
