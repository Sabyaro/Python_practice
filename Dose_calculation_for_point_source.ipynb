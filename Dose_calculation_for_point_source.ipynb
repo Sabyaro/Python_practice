{
 "cells": [
  {
   "cell_type": "code",
   "execution_count": 7,
   "metadata": {},
   "outputs": [
    {
     "name": "stdout",
     "output_type": "stream",
     "text": [
      "13160673671.785488\n"
     ]
    }
   ],
   "source": [
    "#Point source in a Heterogeneous Medium \n",
    "\n",
    "import numpy as np\n",
    "import matplotlib.pyplot as plt\n",
    "from scipy import integrate\n",
    "\n",
    "def Dose_calculation_for_point_source_in_hete_medium(total_mfp, Response_func, radius, S_p):\n",
    "    uncollided_dose = ((S_p*Response_func)/(4*np.pi*radius**2))*np.exp(-total_mfp)\n",
    "    return uncollided_dose\n",
    "S_p = 500*3.7*10**10 #per second\n",
    "r = 10 #cm\n",
    "Re = 0.9 #response function\n",
    "\n",
    "#mu as a function of s\n",
    "def mean_free_path(s):\n",
    "    a = 0.02\n",
    "    b=-1.0\n",
    "    c=0.5   \n",
    "    mu = a * s**2 + b * s + c\n",
    "    y = max(0.5, min(mu, 0.9))\n",
    "    return y\n",
    "l, _ = integrate.quad(mean_free_path, 0, r)\n",
    "\n",
    "exp_value = np.exp(-l)\n",
    "\n",
    "x=Dose_calculation_for_point_source_in_hete_medium(exp_value,Re,r,S_p)\n",
    "print(x)"
   ]
  },
  {
   "cell_type": "code",
   "execution_count": 8,
   "metadata": {},
   "outputs": [
    {
     "name": "stdout",
     "output_type": "stream",
     "text": [
      "5147285702742.77\n"
     ]
    }
   ],
   "source": [
    "#for a polyenergetic problem\n",
    "import numpy as np\n",
    "import matplotlib.pyplot as plt\n",
    "from scipy import integrate\n",
    "\n",
    "def Dose_calculation_for_point_source_in_hete_medium(total_mfp, Response_func, radius, S_p, f_for_energy_E):\n",
    "    uncollided_dose = ((S_p*Response_func*f_for_energy_E)/(4*np.pi*radius**2))*np.exp(-total_mfp)\n",
    "    return uncollided_dose\n",
    "S_p = 500*3.7*10**10 #per second\n",
    "r = 10 #cm\n",
    "Re = np.linspace(0.2,0.9,1000) #response function\n",
    "f = 0.8\n",
    "response_func = np.sum(Re*f)\n",
    "#mu as a function of s\n",
    "def mean_free_path(s):\n",
    "    a = 0.02\n",
    "    b=-1.0\n",
    "    c=0.5   \n",
    "    mu = a * s**2 + b * s + c\n",
    "    y = max(0.5, min(mu, 0.9))\n",
    "    return y\n",
    "l, _ = integrate.quad(mean_free_path, 0, r)\n",
    "\n",
    "exp_value = np.exp(-l)\n",
    "x= Dose_calculation_for_point_source_in_hete_medium(exp_value,response_func, r, S_p, f)\n",
    "print(x)"
   ]
  }
 ],
 "metadata": {
  "kernelspec": {
   "display_name": "Python 3",
   "language": "python",
   "name": "python3"
  },
  "language_info": {
   "codemirror_mode": {
    "name": "ipython",
    "version": 3
   },
   "file_extension": ".py",
   "mimetype": "text/x-python",
   "name": "python",
   "nbconvert_exporter": "python",
   "pygments_lexer": "ipython3",
   "version": "3.10.12"
  },
  "orig_nbformat": 4
 },
 "nbformat": 4,
 "nbformat_minor": 2
}
